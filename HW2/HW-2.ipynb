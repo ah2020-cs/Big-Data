{
 "cells": [
  {
   "cell_type": "code",
   "execution_count": null,
   "id": "cc6df11d",
   "metadata": {},
   "outputs": [],
   "source": [
    "import os\n",
    "import pyspark\n",
    "conf = pyspark.SparkConf()\n",
    "\n",
    "conf.set('spark.ui.proxyBase', '/user/' + os.environ['JUPYTERHUB_USER'] + '/proxy/4041')\n",
    "conf.set('spark.sql.repl.eagerEval.enabled', True)\n",
    "conf.set('spark.driver.memory','4g')\n",
    "sc = pyspark.SparkContext(conf=conf)\n",
    "spark = pyspark.SQLContext.getOrCreate(sc)"
   ]
  },
  {
   "cell_type": "code",
   "execution_count": null,
   "id": "8ae18b7a",
   "metadata": {},
   "outputs": [],
   "source": [
    "bake = spark.read.option('header',True).option('inferSchema',True).csv('hw2_data/Bakery.csv')"
   ]
  },
  {
   "cell_type": "code",
   "execution_count": null,
   "id": "fccd23c7",
   "metadata": {},
   "outputs": [],
   "source": [
    "from pyspark.sql.functions import *"
   ]
  },
  {
   "cell_type": "code",
   "execution_count": null,
   "id": "e6ba5a21",
   "metadata": {},
   "outputs": [],
   "source": []
  },
  {
   "cell_type": "code",
   "execution_count": null,
   "id": "217197b1",
   "metadata": {},
   "outputs": [],
   "source": [
    "#\"Q1\""
   ]
  },
  {
   "cell_type": "code",
   "execution_count": null,
   "id": "ab902026",
   "metadata": {},
   "outputs": [],
   "source": [
    "bakeSP = bake.withColumn('Date', split(bake['DateTime'], ' ').getItem(0)).withColumn('Time', split(bake['DateTime'], ' ').getItem(1))"
   ]
  },
  {
   "cell_type": "code",
   "execution_count": null,
   "id": "2ea3392f",
   "metadata": {},
   "outputs": [],
   "source": [
    "bakeSP1 = bakeSP.withColumn('Hour', split(bakeSP['Time'], ':').getItem(0))"
   ]
  },
  {
   "cell_type": "code",
   "execution_count": null,
   "id": "67f74672",
   "metadata": {},
   "outputs": [],
   "source": [
    "bk = bakeSP1.groupBy(\"Items\",\"Date\",\"Hour\").agg(count(\"TransactionNo\").alias(\"Count\")).sort(\"Date\",\"Hour\").show(20,truncate=False)"
   ]
  },
  {
   "cell_type": "code",
   "execution_count": null,
   "id": "ac57fddf",
   "metadata": {},
   "outputs": [],
   "source": []
  },
  {
   "cell_type": "code",
   "execution_count": null,
   "id": "883c022d",
   "metadata": {},
   "outputs": [],
   "source": [
    "#\"Q2\""
   ]
  },
  {
   "cell_type": "code",
   "execution_count": null,
   "id": "80ba7a98",
   "metadata": {},
   "outputs": [],
   "source": [
    "pt2 = bake.groupBy(\"Items\",\"Daypart\", \"DayType\").agg(count(\"TransactionNo\").alias(\"Count\"))"
   ]
  },
  {
   "cell_type": "code",
   "execution_count": null,
   "id": "7daab92a",
   "metadata": {},
   "outputs": [],
   "source": [
    "pt2 = pt2.sort(col(\"Count\").desc())"
   ]
  },
  {
   "cell_type": "code",
   "execution_count": null,
   "id": "f2913f3d",
   "metadata": {
    "scrolled": true
   },
   "outputs": [],
   "source": [
    "from pyspark.sql.window import Window"
   ]
  },
  {
   "cell_type": "code",
   "execution_count": null,
   "id": "6ae64b79",
   "metadata": {},
   "outputs": [],
   "source": [
    "windowSpec  = Window.partitionBy(\"Daypart\", \"Daytype\").orderBy(col(\"Count\").desc())"
   ]
  },
  {
   "cell_type": "code",
   "execution_count": null,
   "id": "f5c766af",
   "metadata": {},
   "outputs": [],
   "source": [
    "pt2.select('*', rank().over(windowSpec).alias('rank')).filter(col('rank') <= 3).show(1000) "
   ]
  },
  {
   "cell_type": "code",
   "execution_count": null,
   "id": "639e800f",
   "metadata": {},
   "outputs": [],
   "source": []
  },
  {
   "cell_type": "code",
   "execution_count": null,
   "id": "411f21de",
   "metadata": {},
   "outputs": [],
   "source": [
    "#\"Q3\""
   ]
  },
  {
   "cell_type": "code",
   "execution_count": null,
   "id": "83c4dc3e",
   "metadata": {},
   "outputs": [],
   "source": [
    "restuarant = spark.read.option('header',True).option('inferSchema',True).options(delimiter=';').csv('hw2_data/Restaurants_in_Durham_County_NC.csv')"
   ]
  },
  {
   "cell_type": "code",
   "execution_count": null,
   "id": "2ed37181",
   "metadata": {},
   "outputs": [],
   "source": [
    "restuarant.groupBy(\"Rpt_Area_Desc\").agg(count(\"ID\").alias(\"Count\")).show()"
   ]
  },
  {
   "cell_type": "raw",
   "id": "3cc47cb7",
   "metadata": {},
   "source": []
  },
  {
   "cell_type": "code",
   "execution_count": null,
   "id": "68c5b225",
   "metadata": {},
   "outputs": [],
   "source": [
    "#\"Q4\""
   ]
  },
  {
   "cell_type": "code",
   "execution_count": null,
   "id": "f00858f5",
   "metadata": {},
   "outputs": [],
   "source": [
    "population = spark.read.option('inferSchema',True).csv('hw2_data/populationbycountry19802010millions.csv')"
   ]
  },
  {
   "cell_type": "code",
   "execution_count": null,
   "id": "882932cc",
   "metadata": {},
   "outputs": [],
   "source": [
    "population = population.withColumnRenamed(\"_c0\",\"Region\")"
   ]
  },
  {
   "cell_type": "code",
   "execution_count": null,
   "id": "49dc29de",
   "metadata": {},
   "outputs": [],
   "source": [
    "countries= population.select('Region').rdd.map(lambda row: row.Region )\n",
    "countries = countries.zipWithIndex()\n",
    "country= countries.map(lambda x: (x[1],x[0]))"
   ]
  },
  {
   "cell_type": "code",
   "execution_count": null,
   "id": "e5e17603",
   "metadata": {},
   "outputs": [],
   "source": [
    "#the loop\n",
    "\n",
    "for i in range(2,32):\n",
    "    rdd = population.rdd.map(lambda x: ((float(x[i])-float(x[i-1]))/float(x[i-1])*100)\\\n",
    "         if (x[i]!='NA'and x[i-1]!='NA'and x[i]!='--'and x[i-1]!='--') \\\n",
    "         else 0)\n",
    "    \n",
    "    mx = rdd.max()\n",
    "    yr = 1979+i     \n",
    "    print (\"%i %s %f%%\"% (yr,country.lookup(rdd.zipWithIndex().lookup(mx)[0])[0],mx))"
   ]
  },
  {
   "cell_type": "code",
   "execution_count": null,
   "id": "d758d4e4",
   "metadata": {},
   "outputs": [],
   "source": []
  },
  {
   "cell_type": "code",
   "execution_count": null,
   "id": "46851d65",
   "metadata": {},
   "outputs": [],
   "source": [
    "#\"q5\""
   ]
  },
  {
   "cell_type": "code",
   "execution_count": null,
   "id": "709f53c6",
   "metadata": {},
   "outputs": [],
   "source": [
    "wordCount =  sc.textFile('hw2_data/internet_archive_scifi_v3.txt')"
   ]
  },
  {
   "cell_type": "code",
   "execution_count": null,
   "id": "32b3db7b",
   "metadata": {},
   "outputs": [],
   "source": [
    "def lower_clean_str(x):\n",
    "  punc='!\"#$%&\\'()*+,./:;<=>?@[\\\\]^_`{|}~-'\n",
    "  lowercased_str = x.lower()\n",
    "  for ch in punc:\n",
    "    lowercased_str = lowercased_str.replace(ch, '')\n",
    "  return lowercased_str"
   ]
  },
  {
   "cell_type": "code",
   "execution_count": null,
   "id": "ae5fe2ef",
   "metadata": {},
   "outputs": [],
   "source": [
    "wordLower = wordCount.map(lower_clean_str)"
   ]
  },
  {
   "cell_type": "code",
   "execution_count": null,
   "id": "2eb4cdb5",
   "metadata": {},
   "outputs": [],
   "source": [
    "wordClean = wordLower.flatMap(lambda s: s.split(\" \")).filter(lambda x:x!='')"
   ]
  },
  {
   "cell_type": "code",
   "execution_count": null,
   "id": "2f004d0d",
   "metadata": {},
   "outputs": [],
   "source": [
    "wordMap = wordClean.map(lambda word:(word,1))"
   ]
  },
  {
   "cell_type": "code",
   "execution_count": null,
   "id": "6d7c46d2",
   "metadata": {},
   "outputs": [],
   "source": [
    "wordR = wordMap.reduceByKey(lambda x,y:(x+y)).sortByKey()"
   ]
  },
  {
   "cell_type": "code",
   "execution_count": null,
   "id": "a09e6438",
   "metadata": {},
   "outputs": [],
   "source": [
    "wordR.take(25)"
   ]
  },
  {
   "cell_type": "code",
   "execution_count": null,
   "id": "beef5178",
   "metadata": {},
   "outputs": [],
   "source": []
  },
  {
   "cell_type": "code",
   "execution_count": null,
   "id": "3bd75ac1",
   "metadata": {},
   "outputs": [],
   "source": [
    "#\"Q6\""
   ]
  },
  {
   "cell_type": "code",
   "execution_count": null,
   "id": "0701c121",
   "metadata": {},
   "outputs": [],
   "source": [
    "wordClean2 = wordLower.flatMap(lambda s: s.split(\".\")).map(lambda s: s.split(\" \"))"
   ]
  },
  {
   "cell_type": "code",
   "execution_count": null,
   "id": "8c67960e",
   "metadata": {},
   "outputs": [],
   "source": [
    "bigrams = wordClean2.flatMap(lambda xs: (tuple(x) for x in zip(xs, xs[1:])))"
   ]
  },
  {
   "cell_type": "code",
   "execution_count": null,
   "id": "70cb2049",
   "metadata": {},
   "outputs": [],
   "source": [
    "bigrams = bigrams.map(lambda x: (x, 1)).reduceByKey(lambda x, y: x + y)"
   ]
  },
  {
   "cell_type": "code",
   "execution_count": null,
   "id": "4bebf2fe",
   "metadata": {},
   "outputs": [],
   "source": [
    "bigrams.takeOrdered(10,lambda x: -x[1])"
   ]
  },
  {
   "cell_type": "raw",
   "id": "20cc856a",
   "metadata": {},
   "source": []
  }
 ],
 "metadata": {
  "kernelspec": {
   "display_name": "Python [conda env:bigdata]",
   "language": "python",
   "name": "conda-env-bigdata-py"
  },
  "language_info": {
   "codemirror_mode": {
    "name": "ipython",
    "version": 3
   },
   "file_extension": ".py",
   "mimetype": "text/x-python",
   "name": "python",
   "nbconvert_exporter": "python",
   "pygments_lexer": "ipython3",
   "version": "3.8.12"
  }
 },
 "nbformat": 4,
 "nbformat_minor": 5
}
