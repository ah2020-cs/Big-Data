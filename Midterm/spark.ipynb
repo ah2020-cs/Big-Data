{
 "cells": [
  {
   "cell_type": "code",
   "execution_count": null,
   "id": "cc6df11d",
   "metadata": {},
   "outputs": [],
   "source": [
    "import os\n",
    "import pyspark\n",
    "conf = pyspark.SparkConf()\n",
    "\n",
    "conf.set('spark.ui.proxyBase', '/user/' + os.environ['JUPYTERHUB_USER'] + '/proxy/4041')\n",
    "conf.set('spark.sql.repl.eagerEval.enabled', True)\n",
    "conf.set('spark.driver.memory','4g')\n",
    "sc = pyspark.SparkContext(conf=conf)\n",
    "spark = pyspark.SQLContext.getOrCreate(sc)"
   ]
  },
  {
   "cell_type": "code",
   "execution_count": null,
   "id": "f9239799",
   "metadata": {},
   "outputs": [],
   "source": [
    "from pyspark.sql.functions import *\n",
    "import pandas as pd"
   ]
  },
  {
   "cell_type": "code",
   "execution_count": null,
   "id": "fccd23c7",
   "metadata": {},
   "outputs": [],
   "source": []
  },
  {
   "cell_type": "code",
   "execution_count": null,
   "id": "074743cb",
   "metadata": {},
   "outputs": [],
   "source": [
    "#Q2"
   ]
  },
  {
   "cell_type": "code",
   "execution_count": null,
   "id": "cb35e28f",
   "metadata": {},
   "outputs": [],
   "source": [
    "#A\n",
    "df = spark.read.option(\"inferSchema\", \"true\").option(\"header\", \"true\").csv(\"shared/data/midterm/drive_stats_2019_Q1\")"
   ]
  },
  {
   "cell_type": "code",
   "execution_count": null,
   "id": "4b8d0c27",
   "metadata": {},
   "outputs": [],
   "source": [
    "df.describe()"
   ]
  },
  {
   "cell_type": "code",
   "execution_count": null,
   "id": "48b7a70e",
   "metadata": {
    "scrolled": true
   },
   "outputs": [],
   "source": [
    "#B\n",
    "col = list(df.columns)\n",
    "print(col)"
   ]
  },
  {
   "cell_type": "code",
   "execution_count": null,
   "id": "12364b97",
   "metadata": {
    "scrolled": true
   },
   "outputs": [],
   "source": [
    "#C\n",
    "ct = df.select(\"model\").distinct().count()\n",
    "print(ct)"
   ]
  },
  {
   "cell_type": "code",
   "execution_count": null,
   "id": "54e17073",
   "metadata": {},
   "outputs": [],
   "source": [
    "#D\n",
    "df.select(\"model\", \"capacity_bytes\").distinct().sort('capacity_bytes',ascending=False)"
   ]
  },
  {
   "cell_type": "code",
   "execution_count": null,
   "id": "bbcc4650",
   "metadata": {},
   "outputs": [],
   "source": [
    "#E\n",
    "df.select(\"model\", \"serial_number\").distinct().count()"
   ]
  },
  {
   "cell_type": "code",
   "execution_count": null,
   "id": "3568255d",
   "metadata": {},
   "outputs": [],
   "source": [
    "#E\n",
    "df.select(\"model\", \"serial_number\").distinct()"
   ]
  },
  {
   "cell_type": "code",
   "execution_count": null,
   "id": "1f2a2917",
   "metadata": {},
   "outputs": [],
   "source": [
    "#F\n",
    "df.select('smart_200_normalized').describe()"
   ]
  },
  {
   "cell_type": "code",
   "execution_count": null,
   "id": "998c2fce",
   "metadata": {},
   "outputs": [],
   "source": [
    "#G\n",
    "df.crosstab('model', 'smart_200_normalized')"
   ]
  },
  {
   "cell_type": "code",
   "execution_count": null,
   "id": "99f479b3",
   "metadata": {},
   "outputs": [],
   "source": [
    "#H\n",
    "df.select('capacity_bytes').describe()"
   ]
  },
  {
   "cell_type": "code",
   "execution_count": null,
   "id": "66b9d65f",
   "metadata": {},
   "outputs": [],
   "source": [
    "#I \n",
    "df.sort('smart_200_normalized',ascending=False).limit(10)"
   ]
  },
  {
   "cell_type": "code",
   "execution_count": null,
   "id": "3bb5e54b",
   "metadata": {},
   "outputs": [],
   "source": [
    "#J\n",
    "dfj = df.filter(\"smart_200_normalized is Null\" or \"smart_200_normalized==0\")\n",
    "dfj.select('model','capacity_bytes')"
   ]
  },
  {
   "cell_type": "code",
   "execution_count": null,
   "id": "e923952e",
   "metadata": {},
   "outputs": [],
   "source": []
  },
  {
   "cell_type": "code",
   "execution_count": null,
   "id": "360c2628",
   "metadata": {},
   "outputs": [],
   "source": []
  },
  {
   "cell_type": "code",
   "execution_count": null,
   "id": "585f4767",
   "metadata": {},
   "outputs": [],
   "source": [
    "#Q3"
   ]
  },
  {
   "cell_type": "code",
   "execution_count": null,
   "id": "823e3ad6",
   "metadata": {},
   "outputs": [],
   "source": [
    "#A\n",
    "\n",
    "df3 = df.filter(df.smart_200_normalized.isNotNull())\n",
    "df3 = df3.select(\"model\",\"smart_200_normalized\")\n",
    "df3.select('smart_200_normalized').describe()\n"
   ]
  },
  {
   "cell_type": "code",
   "execution_count": null,
   "id": "33b52dfe",
   "metadata": {},
   "outputs": [],
   "source": [
    "df3.createOrReplaceTempView('filter_view')"
   ]
  },
  {
   "cell_type": "code",
   "execution_count": null,
   "id": "59bf5f0f",
   "metadata": {},
   "outputs": [],
   "source": [
    "df3 = spark.sql(\"\"\"select * from filter_view where (smart_200_normalized>98.9626451182) and (smart_200_normalized<101.056082017)\"\"\")\n",
    "df3.groupBy(\"model\",\"smart_200_normalized\").count().show()"
   ]
  },
  {
   "cell_type": "code",
   "execution_count": null,
   "id": "2ca79224",
   "metadata": {},
   "outputs": [],
   "source": []
  },
  {
   "cell_type": "code",
   "execution_count": null,
   "id": "6b7a03a5",
   "metadata": {},
   "outputs": [],
   "source": [
    "#B"
   ]
  },
  {
   "cell_type": "code",
   "execution_count": null,
   "id": "413cd3f4",
   "metadata": {},
   "outputs": [],
   "source": [
    "df.createOrReplaceTempView('filter_view2')"
   ]
  },
  {
   "cell_type": "code",
   "execution_count": null,
   "id": "07d1aa34",
   "metadata": {},
   "outputs": [],
   "source": [
    "sq1=spark.sql(\"\"\"SELECT model, count(*) AS upTime FROM filter_view2 GROUP BY model;\"\"\")\n",
    "sq2=spark.sql(\"\"\"SELECT model, count(*) AS failures FROM filter_view2 WHERE failure = 1 GROUP BY model;\"\"\")"
   ]
  },
  {
   "cell_type": "code",
   "execution_count": null,
   "id": "098593f3",
   "metadata": {},
   "outputs": [],
   "source": [
    "sq2=sq2.withColumnRenamed(\"model\",\"model2\")\n",
    "joinDF=sq1.join(sq2,sq1.model == sq2.model2,\"leftouter\")\n",
    "joinDF=joinDF.drop(\"model2\")\n",
    "joinDF=joinDF.na.fill(value=0,subset=[\"failures\"])\n",
    "joinDF=joinDF.withColumn(\"ErrorRate\",((joinDF[\"failures\"]/joinDF[\"upTime\"])*100*365))\n",
    "\n",
    "std4=joinDF\n",
    "\n",
    "dfstats=std4.select(\"ErrorRate\")\n",
    "std4=dfstats.summary(\"stddev\",\"mean\")\n",
    "temp=std4.rdd.map(lambda x: x.ErrorRate).collect()\n",
    "\n",
    "\n",
    "std=float(temp[0])\n",
    "mean=float(temp[1])\n",
    "\n",
    "lower= mean - std\n",
    "upper= mean + std\n"
   ]
  },
  {
   "cell_type": "code",
   "execution_count": null,
   "id": "0d133437",
   "metadata": {},
   "outputs": [],
   "source": [
    "from pyspark.sql import functions as func\n",
    "finalDF=joinDF.withColumn(\"Anomaly\",func.when((joinDF[\"ErrorRate\"]>=lower) & (joinDF[\"ErrorRate\"]<=upper),False).otherwise(True))\n",
    "finalDF\n"
   ]
  },
  {
   "cell_type": "code",
   "execution_count": null,
   "id": "9cd456f3",
   "metadata": {},
   "outputs": [],
   "source": []
  }
 ],
 "metadata": {
  "kernelspec": {
   "display_name": "Python [conda env:bigdata]",
   "language": "python",
   "name": "conda-env-bigdata-py"
  },
  "language_info": {
   "codemirror_mode": {
    "name": "ipython",
    "version": 3
   },
   "file_extension": ".py",
   "mimetype": "text/x-python",
   "name": "python",
   "nbconvert_exporter": "python",
   "pygments_lexer": "ipython3",
   "version": "3.8.12"
  }
 },
 "nbformat": 4,
 "nbformat_minor": 5
}
