{
 "cells": [
  {
   "cell_type": "code",
   "execution_count": null,
   "id": "8888367c",
   "metadata": {},
   "outputs": [],
   "source": [
    "import os\n",
    "import pyspark\n",
    "conf = pyspark.SparkConf()\n",
    "\n",
    "conf.set('spark.ui.proxyBase', '/user/' + os.environ['JUPYTERHUB_USER'] + '/proxy/4041')\n",
    "conf.set('spark.sql.repl.eagerEval.enabled', True)\n",
    "conf.set('spark.driver.memory','4g')\n",
    "sc = pyspark.SparkContext(conf=conf)\n",
    "spark = pyspark.SQLContext.getOrCreate(sc)"
   ]
  },
  {
   "cell_type": "code",
   "execution_count": null,
   "id": "72c24182",
   "metadata": {},
   "outputs": [],
   "source": [
    "from pyspark.ml.feature import *\n",
    "from pyspark.sql.functions import *"
   ]
  },
  {
   "cell_type": "code",
   "execution_count": null,
   "id": "cf2275ae",
   "metadata": {},
   "outputs": [],
   "source": [
    "df1 = spark.read.option(\"lineSep\", \".\").text('shared/data/midterm/hw1dir')"
   ]
  },
  {
   "cell_type": "code",
   "execution_count": null,
   "id": "342c72ae",
   "metadata": {},
   "outputs": [],
   "source": [
    "token = RegexTokenizer(gaps = False, pattern = '\\w+', inputCol = 'value', outputCol = 'text')"
   ]
  },
  {
   "cell_type": "code",
   "execution_count": null,
   "id": "7f5aa156",
   "metadata": {},
   "outputs": [],
   "source": [
    "df2 = token.transform(df1.dropna())"
   ]
  },
  {
   "cell_type": "code",
   "execution_count": null,
   "id": "887afdac",
   "metadata": {},
   "outputs": [],
   "source": [
    "hashTF = HashingTF(inputCol = \"text\", outputCol = \"vectors\")"
   ]
  },
  {
   "cell_type": "code",
   "execution_count": null,
   "id": "ab6c0f29",
   "metadata": {},
   "outputs": [],
   "source": [
    "df3 = hashTF.transform(df2)\n",
    "#df3.show()"
   ]
  },
  {
   "cell_type": "code",
   "execution_count": null,
   "id": "f043f6b4",
   "metadata": {},
   "outputs": [],
   "source": [
    "df3 = df3.filter(size((col(\"text\"))) >= 1)"
   ]
  },
  {
   "cell_type": "code",
   "execution_count": null,
   "id": "3a4d32b4",
   "metadata": {},
   "outputs": [],
   "source": [
    "minHash = MinHashLSH(inputCol=\"vectors\", outputCol=\"hash\")"
   ]
  },
  {
   "cell_type": "code",
   "execution_count": null,
   "id": "68ce90d3",
   "metadata": {},
   "outputs": [],
   "source": [
    "model = minHash.fit(df3)"
   ]
  },
  {
   "cell_type": "code",
   "execution_count": null,
   "id": "395746c1",
   "metadata": {},
   "outputs": [],
   "source": [
    "final1 = model.transform(df3).drop(\"text\")\n",
    "final2 = model.transform(df3).drop(\"text\")"
   ]
  },
  {
   "cell_type": "code",
   "execution_count": null,
   "id": "a7098538",
   "metadata": {},
   "outputs": [],
   "source": [
    "model.approxSimilarityJoin(final1, final2, 0.05, distCol=\"Jaccard\").show()"
   ]
  },
  {
   "cell_type": "code",
   "execution_count": null,
   "id": "666de946",
   "metadata": {},
   "outputs": [],
   "source": []
  }
 ],
 "metadata": {
  "kernelspec": {
   "display_name": "Python [conda env:bigdata]",
   "language": "python",
   "name": "conda-env-bigdata-py"
  },
  "language_info": {
   "codemirror_mode": {
    "name": "ipython",
    "version": 3
   },
   "file_extension": ".py",
   "mimetype": "text/x-python",
   "name": "python",
   "nbconvert_exporter": "python",
   "pygments_lexer": "ipython3",
   "version": "3.8.12"
  }
 },
 "nbformat": 4,
 "nbformat_minor": 5
}
