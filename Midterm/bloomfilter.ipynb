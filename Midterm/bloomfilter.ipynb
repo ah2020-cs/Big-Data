{
 "cells": [
  {
   "cell_type": "code",
   "execution_count": null,
   "id": "a7973bb3",
   "metadata": {},
   "outputs": [],
   "source": [
    "import os\n",
    "import pyspark\n",
    "conf = pyspark.SparkConf()\n",
    "\n",
    "conf.set('spark.ui.proxyBase', '/user/' + os.environ['JUPYTERHUB_USER'] + '/proxy/4041')\n",
    "conf.set('spark.sql.repl.eagerEval.enabled', True)\n",
    "conf.set('spark.driver.memory','4g')\n",
    "sc = pyspark.SparkContext(conf=conf)\n",
    "spark = pyspark.SQLContext.getOrCreate(sc)"
   ]
  },
  {
   "cell_type": "code",
   "execution_count": null,
   "id": "14883efd",
   "metadata": {},
   "outputs": [],
   "source": [
    "from pyspark.sql.functions import *\n",
    "import pandas as pd"
   ]
  },
  {
   "cell_type": "code",
   "execution_count": null,
   "id": "24bf5c3b",
   "metadata": {},
   "outputs": [],
   "source": []
  },
  {
   "cell_type": "code",
   "execution_count": null,
   "id": "848d9a9a",
   "metadata": {},
   "outputs": [],
   "source": [
    "dfB = spark.read.option(\"inferSchema\", \"true\").option(\"header\", \"true\").csv(\"shared/data/midterm/drive_stats_2019_Q1/2019-01-0[1-7].csv\")"
   ]
  },
  {
   "cell_type": "code",
   "execution_count": null,
   "id": "84b5685e",
   "metadata": {},
   "outputs": [],
   "source": [
    "#dfB.describe()"
   ]
  },
  {
   "cell_type": "code",
   "execution_count": null,
   "id": "cea36e03",
   "metadata": {},
   "outputs": [],
   "source": [
    "dfA0 = spark.read.option(\"inferSchema\", \"true\").option(\"header\", \"true\").csv(\"shared/data/midterm/drive_stats_2019_Q1/2019-01-0[8-9].csv\")"
   ]
  },
  {
   "cell_type": "code",
   "execution_count": null,
   "id": "a3943535",
   "metadata": {},
   "outputs": [],
   "source": [
    "dfA1 = spark.read.option(\"inferSchema\", \"true\").option(\"header\", \"true\").csv(\"shared/data/midterm/drive_stats_2019_Q1/2019-01-[1-3][0-9].csv\")"
   ]
  },
  {
   "cell_type": "code",
   "execution_count": null,
   "id": "8c938dfa",
   "metadata": {},
   "outputs": [],
   "source": [
    "dfA2 = spark.read.option(\"inferSchema\", \"true\").option(\"header\", \"true\").csv(\"shared/data/midterm/drive_stats_2019_Q1/2019-02-[0-2][0-9].csv\")"
   ]
  },
  {
   "cell_type": "code",
   "execution_count": null,
   "id": "a55384c9",
   "metadata": {
    "scrolled": true
   },
   "outputs": [],
   "source": [
    "dfA3 = spark.read.option(\"inferSchema\", \"true\").option(\"header\", \"true\").csv(\"shared/data/midterm/drive_stats_2019_Q1/2019-03-[0-3][0-9].csv\")"
   ]
  },
  {
   "cell_type": "code",
   "execution_count": null,
   "id": "159cf939",
   "metadata": {},
   "outputs": [],
   "source": [
    "dfAFinal = dfA0.union(dfA1).union(dfA2).union(dfA3)"
   ]
  },
  {
   "cell_type": "code",
   "execution_count": null,
   "id": "561f3885",
   "metadata": {},
   "outputs": [],
   "source": [
    "#dfAFinal.count()"
   ]
  },
  {
   "cell_type": "code",
   "execution_count": null,
   "id": "f5c8b15e",
   "metadata": {},
   "outputs": [],
   "source": []
  },
  {
   "cell_type": "code",
   "execution_count": null,
   "id": "33d73ba6",
   "metadata": {},
   "outputs": [],
   "source": [
    "import pybloom_live"
   ]
  },
  {
   "cell_type": "code",
   "execution_count": null,
   "id": "c5f828c4",
   "metadata": {},
   "outputs": [],
   "source": [
    "bloom = pybloom_live.BloomFilter(capacity=dfB.count(), error_rate=0.001)"
   ]
  },
  {
   "cell_type": "code",
   "execution_count": null,
   "id": "0722b8f5",
   "metadata": {},
   "outputs": [],
   "source": [
    "dfB_Models = dfB.select('model')\n",
    "dfB_Models = dfB_Models.drop_duplicates([\"model\"])\n",
    "\n",
    "#dfB_Models.show(10)"
   ]
  },
  {
   "cell_type": "code",
   "execution_count": null,
   "id": "e8c1ba4d",
   "metadata": {},
   "outputs": [],
   "source": [
    "[bloom.add(x) for x in dfB_Models.rdd.toLocalIterator()]"
   ]
  },
  {
   "cell_type": "code",
   "execution_count": null,
   "id": "a771a009",
   "metadata": {},
   "outputs": [],
   "source": [
    "all([(x in bloom) for x in dfB_Models.rdd.toLocalIterator()])"
   ]
  },
  {
   "cell_type": "code",
   "execution_count": null,
   "id": "52fdac4c",
   "metadata": {},
   "outputs": [],
   "source": [
    "broadcastFilter = sc.broadcast(bloom)"
   ]
  },
  {
   "cell_type": "code",
   "execution_count": null,
   "id": "82c9d2ba",
   "metadata": {},
   "outputs": [],
   "source": []
  },
  {
   "cell_type": "code",
   "execution_count": null,
   "id": "2e39a799",
   "metadata": {},
   "outputs": [],
   "source": [
    "x = dfAFinal.rdd.filter(lambda x : broadcastFilter.value.mightContain(x(0)))"
   ]
  },
  {
   "cell_type": "code",
   "execution_count": null,
   "id": "43a8b3c1",
   "metadata": {},
   "outputs": [],
   "source": []
  },
  {
   "cell_type": "code",
   "execution_count": null,
   "id": "33111fcc",
   "metadata": {},
   "outputs": [],
   "source": [
    "#i tried the below methods but i just wasnt able to get it running so i went with sql as an easy option i know its know distrubted "
   ]
  },
  {
   "cell_type": "code",
   "execution_count": null,
   "id": "794e88e0",
   "metadata": {},
   "outputs": [],
   "source": [
    "#dfAFinal.join(bloom).where(dfAFinal.select('model') in bloom)"
   ]
  },
  {
   "cell_type": "code",
   "execution_count": null,
   "id": "85177edf",
   "metadata": {},
   "outputs": [],
   "source": [
    "#x = dfAFinal.select('model').rdd.filter(lambda x : broadcastFilter.value.mightContain(x(0)))"
   ]
  },
  {
   "cell_type": "code",
   "execution_count": null,
   "id": "1f844f17",
   "metadata": {},
   "outputs": [],
   "source": [
    "#x.take(10)"
   ]
  },
  {
   "cell_type": "code",
   "execution_count": null,
   "id": "406fdc94",
   "metadata": {},
   "outputs": [],
   "source": []
  }
 ],
 "metadata": {
  "kernelspec": {
   "display_name": "Python [conda env:bigdata]",
   "language": "python",
   "name": "conda-env-bigdata-py"
  },
  "language_info": {
   "codemirror_mode": {
    "name": "ipython",
    "version": 3
   },
   "file_extension": ".py",
   "mimetype": "text/x-python",
   "name": "python",
   "nbconvert_exporter": "python",
   "pygments_lexer": "ipython3",
   "version": "3.8.12"
  }
 },
 "nbformat": 4,
 "nbformat_minor": 5
}
